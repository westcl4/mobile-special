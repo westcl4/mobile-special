{
 "cells": [
  {
   "cell_type": "code",
   "execution_count": null,
   "id": "48ba9034",
   "metadata": {},
   "outputs": [],
   "source": []
  },
  {
   "cell_type": "markdown",
   "id": "2c7ca751",
   "metadata": {},
   "source": [
    "# Mobile Special Topic Journal\n",
    "\n",
    "This Jupyter Notebook serves as a running record of my experiences with learning to create immersive Unity applications for Android devices."
   ]
  },
  {
   "attachments": {},
   "cell_type": "markdown",
   "id": "d356f4d7",
   "metadata": {},
   "source": [
    "## Week 1\n",
    "\n",
    "I started off by following a tutorial that showed how to use the Unity Augmented Reality frameworks. The guide I followed can be found [here.](\"https://codelabs.developers.google.com/arcore-unity-ar-foundation#1\") It is a simple Augmented Reality game where you direct a small 3D model of a car to follow a pointer that the user controls by moving the camera in the AR space.\n",
    "\n",
    "The tutorial walks you through setting up the dev environment, giving the user a few assets with which to create the main elements of the game. However, my experience with setting up the environment diverged from the one portrayed in the guide.\n",
    "\n",
    "![image1](\"/journalimages/TutorialDiff.png\")"
   ]
  },
  {
   "cell_type": "code",
   "execution_count": null,
   "id": "87b92541",
   "metadata": {},
   "outputs": [],
   "source": []
  },
  {
   "cell_type": "code",
   "execution_count": null,
   "id": "d6ca0758",
   "metadata": {},
   "outputs": [],
   "source": []
  },
  {
   "cell_type": "code",
   "execution_count": null,
   "id": "35b23426",
   "metadata": {},
   "outputs": [],
   "source": []
  },
  {
   "cell_type": "code",
   "execution_count": null,
   "id": "3d76b512",
   "metadata": {},
   "outputs": [],
   "source": []
  },
  {
   "cell_type": "code",
   "execution_count": null,
   "id": "4aba7ce8",
   "metadata": {},
   "outputs": [],
   "source": []
  }
 ],
 "metadata": {
  "kernelspec": {
   "display_name": "Python 3 (ipykernel)",
   "language": "python",
   "name": "python3"
  },
  "language_info": {
   "codemirror_mode": {
    "name": "ipython",
    "version": 3
   },
   "file_extension": ".py",
   "mimetype": "text/x-python",
   "name": "python",
   "nbconvert_exporter": "python",
   "pygments_lexer": "ipython3",
   "version": "3.9.13"
  }
 },
 "nbformat": 4,
 "nbformat_minor": 5
}
